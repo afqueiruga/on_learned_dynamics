{
 "cells": [
  {
   "cell_type": "markdown",
   "metadata": {},
   "source": [
    "# How Do We Learn the Wave Equation?"
   ]
  },
  {
   "cell_type": "code",
   "execution_count": 78,
   "metadata": {},
   "outputs": [],
   "source": [
    "import numpy as np\n",
    "from matplotlib import pylab as plt\n",
    "import matplotlib.animation as animation\n",
    "import cmocean\n",
    "import seaborn"
   ]
  },
  {
   "cell_type": "code",
   "execution_count": 117,
   "metadata": {},
   "outputs": [],
   "source": [
    "import utils\n",
    "import plotting\n",
    "import helper\n",
    "import analytical_solutions\n",
    "import models\n",
    "import ode_helper\n",
    "# Hack for reloading in notebooks without reseting the kernel\n",
    "import importlib\n",
    "importlib.reload(utils)\n",
    "importlib.reload(helper)\n",
    "importlib.reload(plotting)\n",
    "importlib.reload(models)\n",
    "importlib.reload(ode_helper)\n",
    "importlib.reload(analytical_solutions)\n",
    "\n",
    "from helper import *\n",
    "from utils import *\n",
    "from analytical_solutions import *\n",
    "from ode_helper import *"
   ]
  },
  {
   "cell_type": "code",
   "execution_count": 4,
   "metadata": {},
   "outputs": [
    {
     "name": "stdout",
     "output_type": "stream",
     "text": [
      "Using the CPU\n"
     ]
    }
   ],
   "source": [
    "device=get_device()\n",
    "set_seed()"
   ]
  },
  {
   "cell_type": "markdown",
   "metadata": {},
   "source": [
    "We can generate any dataset that we want with the analytical solution."
   ]
  },
  {
   "cell_type": "code",
   "execution_count": 5,
   "metadata": {},
   "outputs": [
    {
     "name": "stdout",
     "output_type": "stream",
     "text": [
      "[0.19350920659919693, -0.024188650824899606, 0.007167007651822101, -0.0030235813531124464, 0.0015480736527935708, -0.0008958759564777596, 0.0005641667830880341, -0.00037794766913905347, 0.00026544472784526056, -0.00019350920659919448, 0.00014538633102868976, -0.00011198449455971839, 8.807883777842609e-05, -7.052084788600294e-05, 5.733606121457203e-05, -4.724345864238052e-05, 3.9387178220883785e-05, -3.318059098065654e-05, 2.8212451756695488e-05, -2.418865082489838e-05]\n"
     ]
    }
   ],
   "source": [
    "ts, data = make_wave_dataset(10, 500, t_max=83,\n",
    "                             params=WAVE_PARAMS[1])\n",
    "torch_data = data_to_torch(data, device=device)\n",
    "torch_ts = data_to_torch(ts, device=device)\n",
    "NT,_,NX = data.shape\n",
    "dt = ts[1]-ts[0]"
   ]
  },
  {
   "cell_type": "markdown",
   "metadata": {},
   "source": [
    "We want to learn the true operator, and we'll try multiple strategies to do so:\n",
    "1. Optimize Omega and take the matrix log\n",
    "2. Add an elastic net to Omega, and take the matrix log\n",
    "3. Learn a model in an ODE solver, and hope the model is Lambda\n",
    "4. Use the mixed ODE-loss, and hypothesize that prevents overfitting."
   ]
  },
  {
   "cell_type": "code",
   "execution_count": 114,
   "metadata": {},
   "outputs": [],
   "source": [
    "class Experiment():\n",
    "    \"\"\"\n",
    "    This is an awkward container class to store experiment\n",
    "    results in this notebook.\n",
    "    \"\"\"\n",
    "    def __init__(self, ode=False,methods=('euler',)):\n",
    "        self.ode = ode\n",
    "        self.methods=methods\n",
    "        if ode:\n",
    "\n",
    "            self.model = models.MultiLinearODE((2,NX),(2,NX),bias=False).double().to(device)\n",
    "        else:\n",
    "            self.model = models.MultiLinear((2,NX),(2,NX),bias=False).double().to(device)\n",
    "        # This is the awkard state\n",
    "        self.callback = lambda m,o,l : self._callback(m,o,l)\n",
    "        self.save_schedule = [2.0**-i for i in range(-1,100)]\n",
    "        self.next_save = self.save_schedule.pop(0)\n",
    "        self.all_omegas = []\n",
    "        self.all_metrics = []\n",
    "        \n",
    "    def _callback(self, model, opt_iter, loss):\n",
    "        if loss < self.next_save:\n",
    "            Om = self.model.net.weight.detach().cpu().numpy().copy()\n",
    "            self.all_omegas.append(Om)\n",
    "            self.all_metrics.append((opt_iter,loss))\n",
    "            print(\"Saving at \",opt_iter, \" with loss \",loss)\n",
    "            self.next_save = self.save_schedule.pop(0)\n",
    "            \n",
    "    def train(self,N_iter=10000,gamma_L1=0,gamma_L2=0):\n",
    "        _,losses = learn_rnn(torch_data, self.model,\n",
    "            N_iter=N_iter,batch_size=250,\n",
    "            N_print=100, callback=self.callback,\n",
    "            learning_rate=5.0e-4,\n",
    "            gamma_L1 = gamma_L1, gamma_L2 = gamma_L2, device=device)\n",
    "        \n",
    "    def train_ode(self,N_iter=10000,gamma_L1=0,gamma_L2=0,methods=('euler',)):\n",
    "        _,losses = train_a_neural_ode_multi_method(torch_data, torch_ts,\n",
    "                                                   self.model,\n",
    "                                                   methods=self.methods,\n",
    "                                                   callback=self.callback,\n",
    "                                                   N_iter=N_iter,\n",
    "                                                   device=device)\n",
    "        \n",
    "    def post(self):\n",
    "        self.np_omegas = np.array(self.all_omegas)\n",
    "        self.UVs = [helper.integrate_matrix(self.np_omegas[i,:,:],\n",
    "                                  torch_data[0:1,:,:].cpu().numpy(), 25 )\n",
    "                       for i in range(self.np_omegas.shape[0]) ]\n",
    "        self.all_lambdas = [ lambda_of_omega(om,dt) \n",
    "                            for om in self.all_omegas ]\n",
    "        self.np_lambdas = np.array(self.all_lambdas)\n",
    "        \n",
    "    def make_animation(self,interval=1,transpose=False):\n",
    "        img = self.np_omegas\n",
    "        metrics = self.all_metrics\n",
    "        UVs = self.UVs\n",
    "        fig, ax = plt.subplots(figsize=(6,3))\n",
    "        minmax = np.max(np.abs(img)) * 0.65\n",
    "        tr = lambda x : x.T if transpose else x\n",
    "        ax_left = plt.subplot(1,2,1)\n",
    "        ax_left.set_title(f\"Iteration #{metrics[0][0]}     Loss = {metrics[0][1]:1.2e}\")\n",
    "        canvas = plt.imshow(tr(img[0,:,:]), interpolation='none',\n",
    "                            cmap=cmocean.cm.balance, \n",
    "                            #interpolation='bicubic', \n",
    "                            vmin=-minmax, vmax=minmax)\n",
    "        plt.axis('off')\n",
    "        plt.text(-3,5,'$\\\\frac{du}{dt}$',fontsize=16)\n",
    "        plt.text(-3,15,'$\\\\frac{dv}{dt}$',fontsize=16)\n",
    "        plt.text(5,21,'$u$')\n",
    "        plt.text(15,21,'$v$')\n",
    "        ax = plt.subplot(1,2,2)\n",
    "        ax.set_ylim((-0.5, 0.5))\n",
    "        ax.set_title(\"$u(x,t)$\")\n",
    "        xs = np.linspace(0,1,UVs[0].shape[-1])\n",
    "        line, = ax.plot(xs,UVs[0][0,0,:], lw=2)\n",
    "        plt.tight_layout()\n",
    "        def animate(i):\n",
    "            frame = i//UVs[0].shape[0]\n",
    "            time = i%UVs[0].shape[0]\n",
    "            ax_left.set_title(f\"Iteration #{metrics[frame][0]}     Loss = {metrics[frame][1]:1.2e}\")\n",
    "            line.set_data(xs,UVs[frame][time,0,:])\n",
    "            canvas.set_array(tr(img[frame,:,:]))\n",
    "            return canvas,\n",
    "        ani = animation.FuncAnimation(fig, animate, frames=img.shape[0]*UVs[0].shape[0],\n",
    "                                      interval = interval)\n",
    "        return ani"
   ]
  },
  {
   "cell_type": "code",
   "execution_count": 118,
   "metadata": {},
   "outputs": [],
   "source": [
    "experiments = {\n",
    "    \"Naive\":Experiment(),\n",
    "    \"Elastic\":Experiment(),\n",
    "    \"ODE_Euler\":Experiment(ode=True),\n",
    "    \"ODE_Multi\":Experiment(ode=True,methods=('euler','midpoint','rk4')),\n",
    "}"
   ]
  },
  {
   "cell_type": "code",
   "execution_count": 129,
   "metadata": {},
   "outputs": [
    {
     "name": "stdout",
     "output_type": "stream",
     "text": [
      "Saving at  9999  with loss  0.008487076363724422\n",
      "Saving at  9999  with loss  0.037008055968448986\n"
     ]
    }
   ],
   "source": [
    "#experiments[\"Naive\"].train(N_iter=10000)#10000)\n",
    "#experiments[\"Elastic\"].train(N_iter=10000,gamma_L1=1.0e-5,gamma_L2=1.0e-7)\n",
    "experiments[\"ODE_Euler\"].train_ode(N_iter=10000)\n",
    "experiments[\"ODE_Multi\"].train_ode(N_iter=10000,methods=('euler','midpoint','rk4'))"
   ]
  },
  {
   "cell_type": "code",
   "execution_count": 130,
   "metadata": {},
   "outputs": [
    {
     "data": {
      "image/png": "[encoded data removed]",
      "text/plain": [
       "<Figure size 432x288 with 2 Axes>"
      ]
     },
     "metadata": {
      "needs_background": "light"
     },
     "output_type": "display_data"
    },
    {
     "data": {
      "image/png": "[encoded data removed]",
      "text/plain": [
       "<Figure size 432x288 with 2 Axes>"
      ]
     },
     "metadata": {
      "needs_background": "light"
     },
     "output_type": "display_data"
    },
    {
     "data": {
      "image/png": "[encoded data removed]",
      "text/plain": [
       "<Figure size 432x288 with 2 Axes>"
      ]
     },
     "metadata": {
      "needs_background": "light"
     },
     "output_type": "display_data"
    },
    {
     "data": {
      "image/png": "[encoded data removed]",
      "text/plain": [
       "<Figure size 432x288 with 2 Axes>"
      ]
     },
     "metadata": {
      "needs_background": "light"
     },
     "output_type": "display_data"
    }
   ],
   "source": [
    "for n,exp in experiments.items():\n",
    "    try:\n",
    "        exp.post()\n",
    "        #ani = naive_exp.make_animation()\n",
    "        plt.figure()\n",
    "        seaborn.heatmap(exp.all_omegas[-1], cmap='RdBu', center=0)\n",
    "    except:\n",
    "        print(\"Skipping \",n)"
   ]
  },
  {
   "cell_type": "code",
   "execution_count": null,
   "metadata": {},
   "outputs": [],
   "source": []
  }
 ],
 "metadata": {
  "kernelspec": {
   "display_name": "Python 3",
   "language": "python",
   "name": "python3"
  },
  "language_info": {
   "codemirror_mode": {
    "name": "ipython",
    "version": 3
   },
   "file_extension": ".py",
   "mimetype": "text/x-python",
   "name": "python",
   "nbconvert_exporter": "python",
   "pygments_lexer": "ipython3",
   "version": "3.7.4"
  }
 },
 "nbformat": 4,
 "nbformat_minor": 2
}
