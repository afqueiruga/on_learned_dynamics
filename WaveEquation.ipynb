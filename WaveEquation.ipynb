{
 "cells": [
  {
   "cell_type": "markdown",
   "metadata": {},
   "source": [
    "# Learning the Wave Equation"
   ]
  },
  {
   "cell_type": "markdown",
   "metadata": {},
   "source": [
    "See the library `nn_1d_pde` for more on this problem."
   ]
  },
  {
   "cell_type": "code",
   "execution_count": null,
   "metadata": {},
   "outputs": [],
   "source": [
    "import numpy as np\n",
    "import seaborn\n",
    "from matplotlib import pylab as plt\n",
    "from matplotlib import cm\n",
    "plt.style.use('seaborn-paper')\n",
    "import sympy"
   ]
  },
  {
   "cell_type": "code",
   "execution_count": 876,
   "metadata": {},
   "outputs": [],
   "source": [
    "import utils\n",
    "import plotting\n",
    "import helper\n",
    "import analytical_solutions\n",
    "import models\n",
    "import ode_helper\n",
    "# Hack for reloading in notebooks without reseting the kernel\n",
    "import importlib\n",
    "importlib.reload(utils)\n",
    "importlib.reload(helper)\n",
    "importlib.reload(plotting)\n",
    "importlib.reload(models)\n",
    "importlib.reload(ode_helper)\n",
    "importlib.reload(analytical_solutions)\n",
    "\n",
    "from helper import *\n",
    "from utils import *\n",
    "from analytical_solutions import *\n",
    "from ode_helper import *"
   ]
  },
  {
   "cell_type": "code",
   "execution_count": 462,
   "metadata": {},
   "outputs": [
    {
     "name": "stdout",
     "output_type": "stream",
     "text": [
      "Using the CPU\n"
     ]
    }
   ],
   "source": [
    "device=get_device()\n",
    "set_seed()"
   ]
  },
  {
   "cell_type": "code",
   "execution_count": 566,
   "metadata": {},
   "outputs": [],
   "source": [
    "device=get_device()\n",
    "set_seed()"
   ]
  },
  {
   "cell_type": "code",
   "execution_count": null,
   "metadata": {},
   "outputs": [],
   "source": [
    "ts, data = make_wave_dataset(10, 500, t_max=83,\n",
    "                             params=WAVE_PARAMS[1])\n",
    "torch_data = data_to_torch(data, device=device)\n",
    "torch_ts = data_to_torch(ts, device=device)\n",
    "NT,_,NX = data.shape\n",
    "dt = ts[1]-ts[0]\n",
    "data.shape"
   ]
  },
  {
   "cell_type": "code",
   "execution_count": null,
   "metadata": {},
   "outputs": [],
   "source": [
    "plt.subplot(1,2,1)\n",
    "for i in range(0,NT,NT//10):\n",
    "    plt.plot(data[i,0,:])\n",
    "plt.subplot(1,2,2)\n",
    "for i in range(0,NT,NT//10):\n",
    "    plt.plot(data[i,1,:])"
   ]
  },
  {
   "cell_type": "code",
   "execution_count": null,
   "metadata": {},
   "outputs": [],
   "source": [
    "plt.plot(data[:,0,NX//2])\n",
    "plt.plot(data[:,1,NX//2])\n",
    "plt.xlim(100,200)"
   ]
  },
  {
   "cell_type": "code",
   "execution_count": 799,
   "metadata": {},
   "outputs": [],
   "source": [
    "model = models.MultiLinear((2,NX),(2,NX),bias=False).double().to(device)"
   ]
  },
  {
   "cell_type": "code",
   "execution_count": 800,
   "metadata": {},
   "outputs": [],
   "source": [
    "save_schedule = [2.0**-i for i in range(-1,100)]\n",
    "next_save = save_schedule.pop(0)\n",
    "all_omegas = []\n",
    "all_metrics = []\n",
    "def callback(model, opt_iter, loss):\n",
    "    global next_save, all_omegas\n",
    "    if loss < next_save:\n",
    "        \n",
    "        Om = model.net.weight.detach().cpu().numpy().copy()\n",
    "        all_omegas.append(Om)\n",
    "        all_metrics.append((opt_iter,loss))\n",
    "        print(\"Saving at \",opt_iter, \" with loss \",loss)\n",
    "        next_save = save_schedule.pop(0)"
   ]
  },
  {
   "cell_type": "code",
   "execution_count": 801,
   "metadata": {},
   "outputs": [
    {
     "name": "stdout",
     "output_type": "stream",
     "text": [
      "Using the CPU\n"
     ]
    },
    {
     "data": {
      "text/plain": [
       "[<matplotlib.lines.Line2D at 0x153d80b50>]"
      ]
     },
     "execution_count": 801,
     "metadata": {},
     "output_type": "execute_result"
    },
    {
     "data": {
      "image/png": "[encoded data removed]",
      "text/plain": [
       "<Figure size 460.8x316.8 with 1 Axes>"
      ]
     },
     "metadata": {
      "needs_background": "light"
     },
     "output_type": "display_data"
    }
   ],
   "source": [
    "_,losses=learn_rnn(torch_data, model, N_iter=60000,\n",
    "                   batch_size=250,learning_rate=1.0e-4,\n",
    "                   N_print=100,\n",
    "                  callback=callback, gamma=1e-5)\n",
    "plt.semilogy(losses)"
   ]
  },
  {
   "cell_type": "code",
   "execution_count": 727,
   "metadata": {},
   "outputs": [],
   "source": [
    "def integrate_rnn(Omega, u0, nsteps):\n",
    "    shape = u0.shape\n",
    "    us = [u0]\n",
    "    for i in range(nsteps):\n",
    "        un = Omega @ u0.flatten()\n",
    "        us.append(un.reshape(shape))\n",
    "        u0 = un\n",
    "    return np.concatenate(us,axis=0)"
   ]
  },
  {
   "cell_type": "code",
   "execution_count": 803,
   "metadata": {},
   "outputs": [],
   "source": [
    "np_omegas=np.array(all_omegas)\n",
    "UVs = [integrate_rnn(np_omegas[i,:,:], torch_data[0:1,:,:].cpu().numpy(), 25 )\n",
    "       for i in range(np_omegas.shape[0]) ]"
   ]
  },
  {
   "cell_type": "code",
   "execution_count": null,
   "metadata": {},
   "outputs": [],
   "source": [
    "ani = plotting.make_animation(np_omegas,interval=1,transpose=False)\n",
    "plotting.HTML(ani)"
   ]
  },
  {
   "cell_type": "code",
   "execution_count": null,
   "metadata": {},
   "outputs": [],
   "source": [
    "import matplotlib.animation as animation\n",
    "import cmocean"
   ]
  },
  {
   "cell_type": "markdown",
   "metadata": {},
   "source": [
    "## Make an animation of the traditional ML method"
   ]
  },
  {
   "cell_type": "code",
   "execution_count": 856,
   "metadata": {},
   "outputs": [],
   "source": [
    "def make_animation(img, metrics, interval=10, transpose=True):\n",
    "    fig, ax = plt.subplots(figsize=(6,3))\n",
    "    minmax = np.max(np.abs(img)) * 0.65\n",
    "    tr = lambda x : x.T if transpose else x\n",
    "    ax_left = plt.subplot(1,2,1)\n",
    "    ax_left.set_title(f\"Iteration #{metrics[0][0]}     Loss = {metrics[0][1]:1.2e}\")\n",
    "    canvas = plt.imshow(tr(img[0,:,:]), interpolation='none',\n",
    "                        cmap=cmocean.cm.balance, \n",
    "                        #interpolation='bicubic', \n",
    "                        vmin=-minmax, vmax=minmax)\n",
    "    plt.axis('off')\n",
    "    plt.text(-3,5,'$\\\\frac{du}{dt}$',fontsize=16)\n",
    "    plt.text(-3,15,'$\\\\frac{dv}{dt}$',fontsize=16)\n",
    "    plt.text(5,21,'$u$')\n",
    "    plt.text(15,21,'$v$')\n",
    "    ax = plt.subplot(1,2,2)\n",
    "    ax.set_ylim((-0.5, 0.5))\n",
    "    ax.set_title(\"$u(x,t)$\")\n",
    "    xs = np.linspace(0,1,UVs[0].shape[-1])\n",
    "    line, = ax.plot(xs,UVs[0][0,0,:], lw=2)\n",
    "    plt.tight_layout()\n",
    "    def animate(i):\n",
    "        frame = i//UVs[0].shape[0]\n",
    "        time = i%UVs[0].shape[0]\n",
    "        ax_left.set_title(f\"Iteration #{metrics[frame][0]}     Loss = {metrics[frame][1]:1.2e}\")\n",
    "        line.set_data(xs,UVs[frame][time,0,:])\n",
    "        canvas.set_array(tr(img[frame,:,:]))\n",
    "        return canvas,\n",
    "    ani = animation.FuncAnimation(fig, animate, frames=img.shape[0]*UVs[0].shape[0],\n",
    "                                  interval = interval)\n",
    "    return ani"
   ]
  },
  {
   "cell_type": "code",
   "execution_count": 857,
   "metadata": {},
   "outputs": [
    {
     "data": {
      "image/png": "[encoded data removed]",
      "text/plain": [
       "<Figure size 432x216 with 2 Axes>"
      ]
     },
     "metadata": {
      "needs_background": "light"
     },
     "output_type": "display_data"
    }
   ],
   "source": [
    "ani = make_animation(np_omegas,all_metrics,interval=1, transpose=False)"
   ]
  },
  {
   "cell_type": "code",
   "execution_count": 859,
   "metadata": {},
   "outputs": [],
   "source": [
    "ani.save('wave_animation.mp4',fps=30,dpi=120)"
   ]
  },
  {
   "cell_type": "code",
   "execution_count": null,
   "metadata": {},
   "outputs": [],
   "source": [
    "anij = ani.to_jshtml()\n",
    "plotting.HTML(anij)"
   ]
  },
  {
   "cell_type": "code",
   "execution_count": 862,
   "metadata": {},
   "outputs": [
    {
     "name": "stderr",
     "output_type": "stream",
     "text": [
      "/usr/local/lib/python3.7/site-packages/ipykernel_launcher.py:4: ComplexWarning: Casting complex values to real discards the imaginary part\n",
      "  after removing the cwd from sys.path.\n"
     ]
    }
   ],
   "source": [
    "all_lambdas = [ lambda_of_omega(om) for om in all_omegas ]"
   ]
  },
  {
   "cell_type": "code",
   "execution_count": null,
   "metadata": {},
   "outputs": [],
   "source": [
    "for l in all_lambdas:\n",
    "    seaborn.heatmap(l, cmap='RdBu', center=0)\n",
    "    plt.figure()"
   ]
  },
  {
   "cell_type": "code",
   "execution_count": null,
   "metadata": {},
   "outputs": [],
   "source": [
    "UV = integrate_model(model, torch_data[0:1,:,:],nsteps=25)\n",
    "plt.subplot(1,2,1)\n",
    "for i in range(UV.shape[0]):\n",
    "    plt.plot(UV[i,0,:])\n",
    "plt.subplot(1,2,2)\n",
    "for i in range(UV.shape[0]):\n",
    "    plt.plot(UV[i,1,:])"
   ]
  },
  {
   "cell_type": "code",
   "execution_count": null,
   "metadata": {},
   "outputs": [],
   "source": [
    "Omega = model.net.weight.detach().cpu().numpy()\n",
    "w,V = np.linalg.eig(Omega)\n",
    "#Lambda = V.dot( np.diag(np.log(w)/dt).dot(np.linalg.inv(V)))\n",
    "Lambda = 1/dt * V @ np.diag(np.log(w)) @ np.linalg.inv(V)\n",
    "Lambda = np.array(Lambda,dtype=np.double)"
   ]
  },
  {
   "cell_type": "code",
   "execution_count": null,
   "metadata": {},
   "outputs": [],
   "source": [
    "plt.figure(figsize=plotting.FIG_SIZE_FULL)\n",
    "plt.subplot(1,2,1)\n",
    "plt.title('Omega')\n",
    "seaborn.heatmap(Omega, cmap='RdBu', center=0)\n",
    "plt.subplot(1,2,2)\n",
    "plt.title('Lambda')\n",
    "seaborn.heatmap(Lambda, cmap='RdBu', center=0)"
   ]
  },
  {
   "cell_type": "markdown",
   "metadata": {},
   "source": [
    "# Using the ODEs"
   ]
  },
  {
   "cell_type": "code",
   "execution_count": 866,
   "metadata": {},
   "outputs": [],
   "source": [
    "class MultiLinearODE(models.MultiLinear):\n",
    "    \"\"\"MultiLinear with a t\"\"\"\n",
    "    def __init__(self, *args, **kwargs):\n",
    "        super(MultiLinearODE,self).__init__(*args,**kwargs)\n",
    "    def forward(self, t, x):\n",
    "        xflat = torch.flatten(x, start_dim=-len(self.in_dims))\n",
    "        hflat = self.net(xflat)\n",
    "        return torch.reshape( hflat, hflat.shape[:-1]+self.out_dims )"
   ]
  },
  {
   "cell_type": "code",
   "execution_count": 867,
   "metadata": {},
   "outputs": [],
   "source": [
    "model_ode = MultiLinearODE((2,NX),(2,NX),bias=False).double()"
   ]
  },
  {
   "cell_type": "code",
   "execution_count": 868,
   "metadata": {},
   "outputs": [
    {
     "data": {
      "text/plain": [
       "[<matplotlib.lines.Line2D at 0x155995610>]"
      ]
     },
     "execution_count": 868,
     "metadata": {},
     "output_type": "execute_result"
    },
    {
     "data": {
      "image/png": "[encoded data removed]",
      "text/plain": [
       "<Figure size 460.8x316.8 with 1 Axes>"
      ]
     },
     "metadata": {
      "needs_background": "light"
     },
     "output_type": "display_data"
    }
   ],
   "source": [
    "_,losses=train_a_neural_ode(torch_data, torch_ts, model_ode,\n",
    "                            device=device, )\n",
    "plt.semilogy(losses)"
   ]
  },
  {
   "cell_type": "code",
   "execution_count": null,
   "metadata": {},
   "outputs": [],
   "source": [
    "model_multi = MultiLinearODE((2,NX),(2,NX),bias=False).double()"
   ]
  },
  {
   "cell_type": "code",
   "execution_count": null,
   "metadata": {},
   "outputs": [],
   "source": [
    "_,losses=train_a_neural_ode_multi_method(torch_data, torch_ts, model_multi,\n",
    "                                         device=device)\n",
    "plt.semilogy(losses)"
   ]
  },
  {
   "cell_type": "code",
   "execution_count": 891,
   "metadata": {},
   "outputs": [
    {
     "data": {
      "text/plain": [
       "<matplotlib.axes._subplots.AxesSubplot at 0x153a03050>"
      ]
     },
     "execution_count": 891,
     "metadata": {},
     "output_type": "execute_result"
    },
    {
     "data": {
      "image/png": "[encoded data removed]",
      "text/plain": [
       "<Figure size 1152x432 with 4 Axes>"
      ]
     },
     "metadata": {
      "needs_background": "light"
     },
     "output_type": "display_data"
    }
   ],
   "source": [
    "plt.figure(figsize=plotting.FIG_SIZE_FULL)\n",
    "plt.subplot(1,2,1)\n",
    "LambdaODE = model_ode.net.weight.detach().cpu().numpy()\n",
    "seaborn.heatmap(LambdaODE, cmap='RdBu', center=0)\n",
    "plt.subplot(1,2,2)\n",
    "OmegaODE = operator_factory(LambdaODE, dt)\n",
    "seaborn.heatmap(OmegaODE, cmap='RdBu', center=0)"
   ]
  },
  {
   "cell_type": "code",
   "execution_count": 892,
   "metadata": {},
   "outputs": [
    {
     "data": {
      "text/plain": [
       "<matplotlib.axes._subplots.AxesSubplot at 0x15ba16350>"
      ]
     },
     "execution_count": 892,
     "metadata": {},
     "output_type": "execute_result"
    },
    {
     "data": {
      "image/png": "[encoded data removed]",
      "text/plain": [
       "<Figure size 1152x432 with 4 Axes>"
      ]
     },
     "metadata": {
      "needs_background": "light"
     },
     "output_type": "display_data"
    }
   ],
   "source": [
    "plt.figure(figsize=plotting.FIG_SIZE_FULL)\n",
    "plt.subplot(1,2,1)\n",
    "LambdaMult = model_multi.net.weight.detach().cpu().numpy()\n",
    "seaborn.heatmap(LambdaMult, cmap='RdBu', center=0)\n",
    "plt.subplot(1,2,2)\n",
    "OmegaMult = operator_factory(LambdaMult, dt)\n",
    "seaborn.heatmap(OmegaMult, cmap='RdBu', center=0)"
   ]
  },
  {
   "cell_type": "code",
   "execution_count": null,
   "metadata": {},
   "outputs": [],
   "source": []
  }
 ],
 "metadata": {
  "kernelspec": {
   "display_name": "Python 3",
   "language": "python",
   "name": "python3"
  },
  "language_info": {
   "codemirror_mode": {
    "name": "ipython",
    "version": 3
   },
   "file_extension": ".py",
   "mimetype": "text/x-python",
   "name": "python",
   "nbconvert_exporter": "python",
   "pygments_lexer": "ipython3",
   "version": "3.7.4"
  }
 },
 "nbformat": 4,
 "nbformat_minor": 2
}
